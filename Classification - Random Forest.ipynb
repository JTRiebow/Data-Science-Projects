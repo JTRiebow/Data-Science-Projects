{
 "cells": [
  {
   "cell_type": "code",
   "execution_count": 1,
   "id": "19f51de3-99a5-4602-acf5-64b2cfcecd02",
   "metadata": {},
   "outputs": [
    {
     "data": {
      "text/html": [
       "<div>\n",
       "<style scoped>\n",
       "    .dataframe tbody tr th:only-of-type {\n",
       "        vertical-align: middle;\n",
       "    }\n",
       "\n",
       "    .dataframe tbody tr th {\n",
       "        vertical-align: top;\n",
       "    }\n",
       "\n",
       "    .dataframe thead th {\n",
       "        text-align: right;\n",
       "    }\n",
       "</style>\n",
       "<table border=\"1\" class=\"dataframe\">\n",
       "  <thead>\n",
       "    <tr style=\"text-align: right;\">\n",
       "      <th></th>\n",
       "      <th>CaseOrder</th>\n",
       "      <th>Customer_id</th>\n",
       "      <th>Interaction</th>\n",
       "      <th>UID</th>\n",
       "      <th>City</th>\n",
       "      <th>State</th>\n",
       "      <th>County</th>\n",
       "      <th>Zip</th>\n",
       "      <th>Lat</th>\n",
       "      <th>Lng</th>\n",
       "      <th>...</th>\n",
       "      <th>TotalCharge</th>\n",
       "      <th>Additional_charges</th>\n",
       "      <th>Item1</th>\n",
       "      <th>Item2</th>\n",
       "      <th>Item3</th>\n",
       "      <th>Item4</th>\n",
       "      <th>Item5</th>\n",
       "      <th>Item6</th>\n",
       "      <th>Item7</th>\n",
       "      <th>Item8</th>\n",
       "    </tr>\n",
       "  </thead>\n",
       "  <tbody>\n",
       "    <tr>\n",
       "      <th>0</th>\n",
       "      <td>1</td>\n",
       "      <td>C412403</td>\n",
       "      <td>8cd49b13-f45a-4b47-a2bd-173ffa932c2f</td>\n",
       "      <td>3a83ddb66e2ae73798bdf1d705dc0932</td>\n",
       "      <td>Eva</td>\n",
       "      <td>AL</td>\n",
       "      <td>Morgan</td>\n",
       "      <td>35621</td>\n",
       "      <td>34.34960</td>\n",
       "      <td>-86.72508</td>\n",
       "      <td>...</td>\n",
       "      <td>3726.702860</td>\n",
       "      <td>17939.403420</td>\n",
       "      <td>3</td>\n",
       "      <td>3</td>\n",
       "      <td>2</td>\n",
       "      <td>2</td>\n",
       "      <td>4</td>\n",
       "      <td>3</td>\n",
       "      <td>3</td>\n",
       "      <td>4</td>\n",
       "    </tr>\n",
       "    <tr>\n",
       "      <th>1</th>\n",
       "      <td>2</td>\n",
       "      <td>Z919181</td>\n",
       "      <td>d2450b70-0337-4406-bdbb-bc1037f1734c</td>\n",
       "      <td>176354c5eef714957d486009feabf195</td>\n",
       "      <td>Marianna</td>\n",
       "      <td>FL</td>\n",
       "      <td>Jackson</td>\n",
       "      <td>32446</td>\n",
       "      <td>30.84513</td>\n",
       "      <td>-85.22907</td>\n",
       "      <td>...</td>\n",
       "      <td>4193.190458</td>\n",
       "      <td>17612.998120</td>\n",
       "      <td>3</td>\n",
       "      <td>4</td>\n",
       "      <td>3</td>\n",
       "      <td>4</td>\n",
       "      <td>4</td>\n",
       "      <td>4</td>\n",
       "      <td>3</td>\n",
       "      <td>3</td>\n",
       "    </tr>\n",
       "    <tr>\n",
       "      <th>2</th>\n",
       "      <td>3</td>\n",
       "      <td>F995323</td>\n",
       "      <td>a2057123-abf5-4a2c-abad-8ffe33512562</td>\n",
       "      <td>e19a0fa00aeda885b8a436757e889bc9</td>\n",
       "      <td>Sioux Falls</td>\n",
       "      <td>SD</td>\n",
       "      <td>Minnehaha</td>\n",
       "      <td>57110</td>\n",
       "      <td>43.54321</td>\n",
       "      <td>-96.63772</td>\n",
       "      <td>...</td>\n",
       "      <td>2434.234222</td>\n",
       "      <td>17505.192460</td>\n",
       "      <td>2</td>\n",
       "      <td>4</td>\n",
       "      <td>4</td>\n",
       "      <td>4</td>\n",
       "      <td>3</td>\n",
       "      <td>4</td>\n",
       "      <td>3</td>\n",
       "      <td>3</td>\n",
       "    </tr>\n",
       "    <tr>\n",
       "      <th>3</th>\n",
       "      <td>4</td>\n",
       "      <td>A879973</td>\n",
       "      <td>1dec528d-eb34-4079-adce-0d7a40e82205</td>\n",
       "      <td>cd17d7b6d152cb6f23957346d11c3f07</td>\n",
       "      <td>New Richland</td>\n",
       "      <td>MN</td>\n",
       "      <td>Waseca</td>\n",
       "      <td>56072</td>\n",
       "      <td>43.89744</td>\n",
       "      <td>-93.51479</td>\n",
       "      <td>...</td>\n",
       "      <td>2127.830423</td>\n",
       "      <td>12993.437350</td>\n",
       "      <td>3</td>\n",
       "      <td>5</td>\n",
       "      <td>5</td>\n",
       "      <td>3</td>\n",
       "      <td>4</td>\n",
       "      <td>5</td>\n",
       "      <td>5</td>\n",
       "      <td>5</td>\n",
       "    </tr>\n",
       "    <tr>\n",
       "      <th>4</th>\n",
       "      <td>5</td>\n",
       "      <td>C544523</td>\n",
       "      <td>5885f56b-d6da-43a3-8760-83583af94266</td>\n",
       "      <td>d2f0425877b10ed6bb381f3e2579424a</td>\n",
       "      <td>West Point</td>\n",
       "      <td>VA</td>\n",
       "      <td>King William</td>\n",
       "      <td>23181</td>\n",
       "      <td>37.59894</td>\n",
       "      <td>-76.88958</td>\n",
       "      <td>...</td>\n",
       "      <td>2113.073274</td>\n",
       "      <td>3716.525786</td>\n",
       "      <td>2</td>\n",
       "      <td>1</td>\n",
       "      <td>3</td>\n",
       "      <td>3</td>\n",
       "      <td>5</td>\n",
       "      <td>3</td>\n",
       "      <td>4</td>\n",
       "      <td>3</td>\n",
       "    </tr>\n",
       "  </tbody>\n",
       "</table>\n",
       "<p>5 rows × 50 columns</p>\n",
       "</div>"
      ],
      "text/plain": [
       "   CaseOrder Customer_id                           Interaction  \\\n",
       "0          1     C412403  8cd49b13-f45a-4b47-a2bd-173ffa932c2f   \n",
       "1          2     Z919181  d2450b70-0337-4406-bdbb-bc1037f1734c   \n",
       "2          3     F995323  a2057123-abf5-4a2c-abad-8ffe33512562   \n",
       "3          4     A879973  1dec528d-eb34-4079-adce-0d7a40e82205   \n",
       "4          5     C544523  5885f56b-d6da-43a3-8760-83583af94266   \n",
       "\n",
       "                                UID          City State        County    Zip  \\\n",
       "0  3a83ddb66e2ae73798bdf1d705dc0932           Eva    AL        Morgan  35621   \n",
       "1  176354c5eef714957d486009feabf195      Marianna    FL       Jackson  32446   \n",
       "2  e19a0fa00aeda885b8a436757e889bc9   Sioux Falls    SD     Minnehaha  57110   \n",
       "3  cd17d7b6d152cb6f23957346d11c3f07  New Richland    MN        Waseca  56072   \n",
       "4  d2f0425877b10ed6bb381f3e2579424a    West Point    VA  King William  23181   \n",
       "\n",
       "        Lat       Lng  ...  TotalCharge Additional_charges Item1 Item2  Item3  \\\n",
       "0  34.34960 -86.72508  ...  3726.702860       17939.403420     3     3      2   \n",
       "1  30.84513 -85.22907  ...  4193.190458       17612.998120     3     4      3   \n",
       "2  43.54321 -96.63772  ...  2434.234222       17505.192460     2     4      4   \n",
       "3  43.89744 -93.51479  ...  2127.830423       12993.437350     3     5      5   \n",
       "4  37.59894 -76.88958  ...  2113.073274        3716.525786     2     1      3   \n",
       "\n",
       "   Item4  Item5 Item6 Item7 Item8  \n",
       "0      2      4     3     3     4  \n",
       "1      4      4     4     3     3  \n",
       "2      4      3     4     3     3  \n",
       "3      3      4     5     5     5  \n",
       "4      3      5     3     4     3  \n",
       "\n",
       "[5 rows x 50 columns]"
      ]
     },
     "execution_count": 1,
     "metadata": {},
     "output_type": "execute_result"
    }
   ],
   "source": [
    "# Import all the necessary modules and packages for our code\n",
    "import pandas as pd\n",
    "import numpy as np\n",
    "import matplotlib.pyplot as plt\n",
    "import scipy.stats as stats\n",
    "import seaborn as sns\n",
    "import warnings\n",
    "from sklearn.ensemble import RandomForestRegressor\n",
    "from sklearn.feature_selection import SelectKBest, f_classif\n",
    "from sklearn.metrics import accuracy_score, mean_squared_error, confusion_matrix, r2_score, precision_score, recall_score, f1_score\n",
    "from sklearn.model_selection import train_test_split, GridSearchCV\n",
    "from sklearn.preprocessing import StandardScaler\n",
    "warnings.simplefilter(action='ignore', category=FutureWarning)\n",
    "\n",
    "# Read in the CSV\n",
    "csv = pd.read_csv(r'C:\\Users\\jtrie\\OneDrive\\WGU\\D209\\medical_clean.csv')\n",
    "\n",
    "# Use .head() function to make sure dataframe has been created correctly\n",
    "csv.head()"
   ]
  },
  {
   "cell_type": "code",
   "execution_count": 2,
   "id": "8ff459b1-c78f-4758-8f04-3fc1258af1c8",
   "metadata": {},
   "outputs": [],
   "source": [
    "# Create a DF with only the columns needed to answer the research question\n",
    "df = csv.iloc[:, 14:42]"
   ]
  },
  {
   "cell_type": "code",
   "execution_count": 3,
   "id": "dd9aaf6d-e595-4e1b-bfee-050c0b733470",
   "metadata": {},
   "outputs": [
    {
     "name": "stdout",
     "output_type": "stream",
     "text": [
      "<class 'pandas.core.frame.DataFrame'>\n",
      "RangeIndex: 10000 entries, 0 to 9999\n",
      "Data columns (total 28 columns):\n",
      " #   Column              Non-Null Count  Dtype  \n",
      "---  ------              --------------  -----  \n",
      " 0   Children            10000 non-null  int64  \n",
      " 1   Age                 10000 non-null  int64  \n",
      " 2   Income              10000 non-null  float64\n",
      " 3   Marital             10000 non-null  object \n",
      " 4   Gender              10000 non-null  object \n",
      " 5   ReAdmis             10000 non-null  object \n",
      " 6   VitD_levels         10000 non-null  float64\n",
      " 7   Doc_visits          10000 non-null  int64  \n",
      " 8   Full_meals_eaten    10000 non-null  int64  \n",
      " 9   vitD_supp           10000 non-null  int64  \n",
      " 10  Soft_drink          10000 non-null  object \n",
      " 11  Initial_admin       10000 non-null  object \n",
      " 12  HighBlood           10000 non-null  object \n",
      " 13  Stroke              10000 non-null  object \n",
      " 14  Complication_risk   10000 non-null  object \n",
      " 15  Overweight          10000 non-null  object \n",
      " 16  Arthritis           10000 non-null  object \n",
      " 17  Diabetes            10000 non-null  object \n",
      " 18  Hyperlipidemia      10000 non-null  object \n",
      " 19  BackPain            10000 non-null  object \n",
      " 20  Anxiety             10000 non-null  object \n",
      " 21  Allergic_rhinitis   10000 non-null  object \n",
      " 22  Reflux_esophagitis  10000 non-null  object \n",
      " 23  Asthma              10000 non-null  object \n",
      " 24  Services            10000 non-null  object \n",
      " 25  Initial_days        10000 non-null  float64\n",
      " 26  TotalCharge         10000 non-null  float64\n",
      " 27  Additional_charges  10000 non-null  float64\n",
      "dtypes: float64(5), int64(5), object(18)\n",
      "memory usage: 2.1+ MB\n"
     ]
    }
   ],
   "source": [
    "# Get a sense of the dataframe\n",
    "df.info()"
   ]
  },
  {
   "cell_type": "code",
   "execution_count": 4,
   "id": "d1b13752-6ab3-4b6e-a770-02c1910e5717",
   "metadata": {},
   "outputs": [
    {
     "data": {
      "text/plain": [
       "Children              0\n",
       "Age                   0\n",
       "Income                0\n",
       "Marital               0\n",
       "Gender                0\n",
       "ReAdmis               0\n",
       "VitD_levels           0\n",
       "Doc_visits            0\n",
       "Full_meals_eaten      0\n",
       "vitD_supp             0\n",
       "Soft_drink            0\n",
       "Initial_admin         0\n",
       "HighBlood             0\n",
       "Stroke                0\n",
       "Complication_risk     0\n",
       "Overweight            0\n",
       "Arthritis             0\n",
       "Diabetes              0\n",
       "Hyperlipidemia        0\n",
       "BackPain              0\n",
       "Anxiety               0\n",
       "Allergic_rhinitis     0\n",
       "Reflux_esophagitis    0\n",
       "Asthma                0\n",
       "Services              0\n",
       "Initial_days          0\n",
       "TotalCharge           0\n",
       "Additional_charges    0\n",
       "dtype: int64"
      ]
     },
     "execution_count": 4,
     "metadata": {},
     "output_type": "execute_result"
    }
   ],
   "source": [
    "# Check for missing values\n",
    "df.isnull().sum()"
   ]
  },
  {
   "cell_type": "code",
   "execution_count": 5,
   "id": "896022c0-f9c5-465b-a5b0-b211a95d919f",
   "metadata": {},
   "outputs": [
    {
     "name": "stdout",
     "output_type": "stream",
     "text": [
      "False    10000\n",
      "Name: count, dtype: int64\n"
     ]
    }
   ],
   "source": [
    "# Check for duplicated values within the dataset\n",
    "print(df.duplicated().value_counts())"
   ]
  },
  {
   "cell_type": "code",
   "execution_count": 6,
   "id": "097000cf-022f-44d0-a3cb-63802017b065",
   "metadata": {},
   "outputs": [],
   "source": [
    "# Mapping categorical data to nominal\n",
    "df['Marital'] = df['Marital'].map({'Divorced':0, 'Married':1, 'Never Married':2, 'Separated':3, 'Widowed':4}) \n",
    "df['Gender'] = df['Gender'].map({'Male':0, 'Female':1, 'Nonbinary':3}) \n",
    "df['ReAdmis'] = df['ReAdmis'].map({'No':0, 'Yes':1}) \n",
    "df['Soft_drink'] = df['Soft_drink'].map({'No':0, 'Yes':1}) \n",
    "df['Initial_admin'] = df['Initial_admin'].map({'Elective Admission':0, 'Emergency Admission':1, 'Observation Admission':2}) \n",
    "df['HighBlood'] = df['HighBlood'].map({'No':0, 'Yes':1}) \n",
    "df['Stroke'] = df['Stroke'].map({'No':0, 'Yes':1}) \n",
    "df['Complication_risk'] = df['Complication_risk'].map({'Low':0, 'Medium':1, 'High':2}) \n",
    "df['Overweight'] = df['Overweight'].map({'No':0, 'Yes':1}) \n",
    "df['Arthritis'] = df['Arthritis'].map({'No':0, 'Yes':1}) \n",
    "df['Diabetes'] = df['Diabetes'].map({'No':0, 'Yes':1}) \n",
    "df['Hyperlipidemia'] = df['Hyperlipidemia'].map({'No':0, 'Yes':1}) \n",
    "df['BackPain'] = df['BackPain'].map({'No':0, 'Yes':1}) \n",
    "df['Anxiety'] = df['Anxiety'].map({'No':0, 'Yes':1}) \n",
    "df['Allergic_rhinitis'] = df['Allergic_rhinitis'].map({'No':0, 'Yes':1})\n",
    "df['Reflux_esophagitis'] = df['Reflux_esophagitis'].map({'No':0, 'Yes':1})\n",
    "df['Asthma'] = df['Asthma'].map({'No':0, 'Yes':1})\n",
    "df['Services'] = df['Services'].map({'Blood Work':0, 'CT Scan':1, 'Intravenous':2, 'MRI':3})"
   ]
  },
  {
   "cell_type": "code",
   "execution_count": 7,
   "id": "5b50f9ab-7e28-4ecc-8c57-a395fa70e026",
   "metadata": {},
   "outputs": [
    {
     "name": "stdout",
     "output_type": "stream",
     "text": [
      "ReAdmis\n",
      "0    6331\n",
      "1    3669\n",
      "Name: count, dtype: int64\n",
      "Index(['Children', 'Age', 'Income', 'Marital', 'Full_meals_eaten', 'BackPain',\n",
      "       'Asthma', 'Initial_days', 'TotalCharge', 'Additional_charges'],\n",
      "      dtype='object')\n"
     ]
    }
   ],
   "source": [
    "X = df.drop(['ReAdmis'], axis=1)  # Features\n",
    "y = df['ReAdmis']  # Target variable\n",
    "\n",
    "counts = df['ReAdmis'].value_counts()\n",
    "print(counts)\n",
    "      \n",
    "# Select the top features \n",
    "selector = SelectKBest(score_func=f_classif, k=10)\n",
    "X_new = selector.fit_transform(X, y)\n",
    "\n",
    "# Get the names of the selected features\n",
    "selected_features = X.columns[selector.get_support()]\n",
    "print(selected_features)"
   ]
  },
  {
   "cell_type": "code",
   "execution_count": 8,
   "id": "823e92fc-beca-4a87-bdb6-82ca25370a88",
   "metadata": {},
   "outputs": [],
   "source": [
    "df = df[['Children', 'Age', 'Income', 'Marital', 'Full_meals_eaten', 'BackPain',\n",
    "          'Asthma','Initial_days', 'TotalCharge', 'Additional_charges', 'ReAdmis']]"
   ]
  },
  {
   "cell_type": "code",
   "execution_count": 9,
   "id": "7816cdfc-8968-4f2c-bc30-1c8c77c3b3b0",
   "metadata": {},
   "outputs": [
    {
     "data": {
      "text/plain": [
       "<Axes: ylabel='Initial_days'>"
      ]
     },
     "execution_count": 9,
     "metadata": {},
     "output_type": "execute_result"
    },
    {
     "data": {
      "image/png": "[encoded data removed]",
      "text/plain": [
       "<Figure size 640x480 with 1 Axes>"
      ]
     },
     "metadata": {},
     "output_type": "display_data"
    }
   ],
   "source": [
    "# Check for outliers\n",
    "sns.boxplot(df['Initial_days'])"
   ]
  },
  {
   "cell_type": "code",
   "execution_count": 10,
   "id": "7d7a236c-8457-4470-b179-88f89279f44d",
   "metadata": {},
   "outputs": [
    {
     "data": {
      "text/plain": [
       "<Axes: ylabel='TotalCharge'>"
      ]
     },
     "execution_count": 10,
     "metadata": {},
     "output_type": "execute_result"
    },
    {
     "data": {
      "image/png": "[encoded data removed]",
      "text/plain": [
       "<Figure size 640x480 with 1 Axes>"
      ]
     },
     "metadata": {},
     "output_type": "display_data"
    }
   ],
   "source": [
    "sns.boxplot(df['TotalCharge'])"
   ]
  },
  {
   "cell_type": "code",
   "execution_count": 11,
   "id": "c6e90270-6173-4d41-870f-15d5367e2cdb",
   "metadata": {},
   "outputs": [
    {
     "data": {
      "text/plain": [
       "<Axes: ylabel='Children'>"
      ]
     },
     "execution_count": 11,
     "metadata": {},
     "output_type": "execute_result"
    },
    {
     "data": {
      "image/png": "[encoded data removed]",
      "text/plain": [
       "<Figure size 640x480 with 1 Axes>"
      ]
     },
     "metadata": {},
     "output_type": "display_data"
    }
   ],
   "source": [
    "sns.boxplot(df['Children'])"
   ]
  },
  {
   "cell_type": "code",
   "execution_count": 12,
   "id": "e25ddad0-c4ba-4ff0-aa52-46488b04bf3c",
   "metadata": {},
   "outputs": [
    {
     "data": {
      "text/plain": [
       "<Axes: ylabel='Age'>"
      ]
     },
     "execution_count": 12,
     "metadata": {},
     "output_type": "execute_result"
    },
    {
     "data": {
      "image/png": "[encoded data removed]",
      "text/plain": [
       "<Figure size 640x480 with 1 Axes>"
      ]
     },
     "metadata": {},
     "output_type": "display_data"
    }
   ],
   "source": [
    "sns.boxplot(df['Age'])"
   ]
  },
  {
   "cell_type": "code",
   "execution_count": 13,
   "id": "f48b0d50-a808-4a22-a27e-ab4de6addfcf",
   "metadata": {},
   "outputs": [
    {
     "data": {
      "text/plain": [
       "<Axes: ylabel='Income'>"
      ]
     },
     "execution_count": 13,
     "metadata": {},
     "output_type": "execute_result"
    },
    {
     "data": {
      "image/png": "[encoded data removed]",
      "text/plain": [
       "<Figure size 640x480 with 1 Axes>"
      ]
     },
     "metadata": {},
     "output_type": "display_data"
    }
   ],
   "source": [
    "sns.boxplot(df['Income'])"
   ]
  },
  {
   "cell_type": "code",
   "execution_count": 14,
   "id": "3a265abe-d03a-44fe-bc4e-43a69c11000f",
   "metadata": {},
   "outputs": [
    {
     "name": "stdout",
     "output_type": "stream",
     "text": [
      "0       1.615914\n",
      "1       0.221443\n",
      "2       0.915870\n",
      "3       0.026263\n",
      "4       1.377325\n",
      "          ...   \n",
      "9995    0.192047\n",
      "9996    0.894380\n",
      "9997    0.891569\n",
      "9998    0.378271\n",
      "9999    0.778133\n",
      "Name: Income, Length: 10000, dtype: float64\n"
     ]
    },
    {
     "data": {
      "text/plain": [
       "<Axes: ylabel='Income'>"
      ]
     },
     "execution_count": 14,
     "metadata": {},
     "output_type": "execute_result"
    },
    {
     "data": {
      "image/png": "[encoded data removed]",
      "text/plain": [
       "<Figure size 640x480 with 1 Axes>"
      ]
     },
     "metadata": {},
     "output_type": "display_data"
    }
   ],
   "source": [
    "# This will calculate the z-score for the column (GeeksforGeeks, 2021)\n",
    "z = np.abs(stats.zscore(df['Income']))\n",
    "print(z)\n",
    "\n",
    "# After finding the z-score, we set our threshold to 3, for 3 standard deviations, and remove any outliers\n",
    "# outside of 3 standard deviations (GeeksforGeeks, 2021)\n",
    "threshold_z = 3\n",
    " \n",
    "outlier_indices = np.where(z > threshold_z)[0]\n",
    "df = df.drop(outlier_indices)\n",
    "\n",
    "# Boxplot after removing any outliers with more than three standard deviations\n",
    "sns.boxplot(df['Income'])"
   ]
  },
  {
   "cell_type": "code",
   "execution_count": 15,
   "id": "0830fb59-a6e4-41ff-b31e-abc06cb90589",
   "metadata": {},
   "outputs": [
    {
     "name": "stdout",
     "output_type": "stream",
     "text": [
      "<class 'pandas.core.frame.DataFrame'>\n",
      "Index: 9857 entries, 0 to 9999\n",
      "Data columns (total 11 columns):\n",
      " #   Column              Non-Null Count  Dtype  \n",
      "---  ------              --------------  -----  \n",
      " 0   Children            9857 non-null   int64  \n",
      " 1   Age                 9857 non-null   int64  \n",
      " 2   Income              9857 non-null   float64\n",
      " 3   Marital             9857 non-null   int64  \n",
      " 4   Full_meals_eaten    9857 non-null   int64  \n",
      " 5   BackPain            9857 non-null   int64  \n",
      " 6   Asthma              9857 non-null   int64  \n",
      " 7   Initial_days        9857 non-null   float64\n",
      " 8   TotalCharge         9857 non-null   float64\n",
      " 9   Additional_charges  9857 non-null   float64\n",
      " 10  ReAdmis             9857 non-null   int64  \n",
      "dtypes: float64(4), int64(7)\n",
      "memory usage: 924.1 KB\n"
     ]
    }
   ],
   "source": [
    "df.info()"
   ]
  },
  {
   "cell_type": "code",
   "execution_count": 16,
   "id": "2de5a402-c623-4646-880b-42ade6d461f3",
   "metadata": {},
   "outputs": [
    {
     "data": {
      "text/plain": [
       "<Axes: ylabel='Full_meals_eaten'>"
      ]
     },
     "execution_count": 16,
     "metadata": {},
     "output_type": "execute_result"
    },
    {
     "data": {
      "image/png": "[encoded data removed]",
      "text/plain": [
       "<Figure size 640x480 with 1 Axes>"
      ]
     },
     "metadata": {},
     "output_type": "display_data"
    }
   ],
   "source": [
    "sns.boxplot(df['Full_meals_eaten'])"
   ]
  },
  {
   "cell_type": "code",
   "execution_count": 17,
   "id": "ddfef97a-684f-4131-a3b0-8bc31bd1e1d5",
   "metadata": {},
   "outputs": [
    {
     "name": "stdout",
     "output_type": "stream",
     "text": [
      "0       0.994142\n",
      "1       0.990518\n",
      "2       0.001812\n",
      "3       0.001812\n",
      "4       0.994142\n",
      "          ...   \n",
      "9995    0.990518\n",
      "9996    0.994142\n",
      "9997    0.990518\n",
      "9998    0.990518\n",
      "9999    0.994142\n",
      "Name: Full_meals_eaten, Length: 9857, dtype: float64\n"
     ]
    },
    {
     "data": {
      "text/plain": [
       "<Axes: ylabel='Full_meals_eaten'>"
      ]
     },
     "execution_count": 17,
     "metadata": {},
     "output_type": "execute_result"
    },
    {
     "data": {
      "image/png": "[encoded data removed]",
      "text/plain": [
       "<Figure size 640x480 with 1 Axes>"
      ]
     },
     "metadata": {},
     "output_type": "display_data"
    }
   ],
   "source": [
    "# This will calculate the z-score for the column (GeeksforGeeks, 2021)\n",
    "z = np.abs(stats.zscore(df['Full_meals_eaten']))\n",
    "print(z)\n",
    "\n",
    "# After finding the z-score, we set our threshold to 3, for 3 standard deviations, and remove any outliers\n",
    "# outside of 3 standard deviations (GeeksforGeeks, 2021)\n",
    "threshold_z = 3\n",
    " \n",
    "outlier_indices = np.where(z > threshold_z)[0]\n",
    "df = df.drop(outlier_indices)\n",
    "\n",
    "# Boxplot after removing any outliers with more than three standard deviations\n",
    "sns.boxplot(df['Full_meals_eaten'])"
   ]
  },
  {
   "cell_type": "code",
   "execution_count": 18,
   "id": "9e7d177f-4195-476f-9bea-15b250a0d3dc",
   "metadata": {},
   "outputs": [
    {
     "name": "stdout",
     "output_type": "stream",
     "text": [
      "<class 'pandas.core.frame.DataFrame'>\n",
      "Index: 9825 entries, 0 to 9999\n",
      "Data columns (total 11 columns):\n",
      " #   Column              Non-Null Count  Dtype  \n",
      "---  ------              --------------  -----  \n",
      " 0   Children            9825 non-null   int64  \n",
      " 1   Age                 9825 non-null   int64  \n",
      " 2   Income              9825 non-null   float64\n",
      " 3   Marital             9825 non-null   int64  \n",
      " 4   Full_meals_eaten    9825 non-null   int64  \n",
      " 5   BackPain            9825 non-null   int64  \n",
      " 6   Asthma              9825 non-null   int64  \n",
      " 7   Initial_days        9825 non-null   float64\n",
      " 8   TotalCharge         9825 non-null   float64\n",
      " 9   Additional_charges  9825 non-null   float64\n",
      " 10  ReAdmis             9825 non-null   int64  \n",
      "dtypes: float64(4), int64(7)\n",
      "memory usage: 921.1 KB\n"
     ]
    }
   ],
   "source": [
    "df.info()"
   ]
  },
  {
   "cell_type": "code",
   "execution_count": 19,
   "id": "3fc97282-e9ea-4d9b-85f2-a9d1d862efc8",
   "metadata": {},
   "outputs": [
    {
     "data": {
      "text/plain": [
       "<Axes: ylabel='Additional_charges'>"
      ]
     },
     "execution_count": 19,
     "metadata": {},
     "output_type": "execute_result"
    },
    {
     "data": {
      "image/png": "[encoded data removed]",
      "text/plain": [
       "<Figure size 640x480 with 1 Axes>"
      ]
     },
     "metadata": {},
     "output_type": "display_data"
    }
   ],
   "source": [
    "sns.boxplot(df['Additional_charges'])"
   ]
  },
  {
   "cell_type": "code",
   "execution_count": 20,
   "id": "cb3586dc-5588-4f23-a5a6-e4c2e0cbbfb0",
   "metadata": {},
   "outputs": [
    {
     "name": "stdout",
     "output_type": "stream",
     "text": [
      "0       0.763689\n",
      "1       0.713798\n",
      "2       0.697319\n",
      "3       0.007698\n",
      "4       1.410278\n",
      "          ...   \n",
      "9995    0.613759\n",
      "9996    2.378969\n",
      "9997    0.357384\n",
      "9998    0.788920\n",
      "9999    0.198688\n",
      "Name: Additional_charges, Length: 9825, dtype: float64\n"
     ]
    },
    {
     "data": {
      "text/plain": [
       "<Axes: ylabel='Additional_charges'>"
      ]
     },
     "execution_count": 20,
     "metadata": {},
     "output_type": "execute_result"
    },
    {
     "data": {
      "image/png": "[encoded data removed]",
      "text/plain": [
       "<Figure size 640x480 with 1 Axes>"
      ]
     },
     "metadata": {},
     "output_type": "display_data"
    }
   ],
   "source": [
    "# This will calculate the z-score for the column (GeeksforGeeks, 2021)\n",
    "z = np.abs(stats.zscore(df['Additional_charges']))\n",
    "print(z)\n",
    "\n",
    "# After finding the z-score, we set our threshold to 3, for 3 standard deviations, and remove any outliers\n",
    "# outside of 3 standard deviations (GeeksforGeeks, 2021)\n",
    "threshold_z = 3\n",
    " \n",
    "outlier_indices = np.where(z > threshold_z)[0]\n",
    "df = df.drop(outlier_indices)\n",
    "\n",
    "# Boxplot after removing any outliers with more than three standard deviations\n",
    "sns.boxplot(df['Additional_charges'])"
   ]
  },
  {
   "cell_type": "code",
   "execution_count": 21,
   "id": "9342099d-ef60-4ba8-a3fc-770f066d5b63",
   "metadata": {},
   "outputs": [
    {
     "name": "stdout",
     "output_type": "stream",
     "text": [
      "<class 'pandas.core.frame.DataFrame'>\n",
      "Index: 9825 entries, 0 to 9999\n",
      "Data columns (total 11 columns):\n",
      " #   Column              Non-Null Count  Dtype  \n",
      "---  ------              --------------  -----  \n",
      " 0   Children            9825 non-null   int64  \n",
      " 1   Age                 9825 non-null   int64  \n",
      " 2   Income              9825 non-null   float64\n",
      " 3   Marital             9825 non-null   int64  \n",
      " 4   Full_meals_eaten    9825 non-null   int64  \n",
      " 5   BackPain            9825 non-null   int64  \n",
      " 6   Asthma              9825 non-null   int64  \n",
      " 7   Initial_days        9825 non-null   float64\n",
      " 8   TotalCharge         9825 non-null   float64\n",
      " 9   Additional_charges  9825 non-null   float64\n",
      " 10  ReAdmis             9825 non-null   int64  \n",
      "dtypes: float64(4), int64(7)\n",
      "memory usage: 921.1 KB\n"
     ]
    }
   ],
   "source": [
    "df.info()"
   ]
  },
  {
   "cell_type": "code",
   "execution_count": 22,
   "id": "7544515d-1b3b-4967-baaf-c875ae1c6b8a",
   "metadata": {},
   "outputs": [],
   "source": [
    "df.to_csv(r\"C:\\Users\\jtrie\\OneDrive\\WGU\\D209\\Prepared_Data_JTR_Task2.csv\", index=False, header=True)"
   ]
  },
  {
   "cell_type": "code",
   "execution_count": 23,
   "id": "70542e7c-242f-4ca5-9aba-1730afbf598c",
   "metadata": {},
   "outputs": [],
   "source": [
    "# Standardize the continuous data\n",
    "scaler = StandardScaler()\n",
    "df[['Children', 'Age', 'Income', 'Marital', 'Full_meals_eaten','TotalCharge', 'Initial_days', 'Additional_charges']] = scaler.fit_transform(df[['Children', 'Age', 'Income', 'Marital', 'Full_meals_eaten','TotalCharge', 'Initial_days', 'Additional_charges']])"
   ]
  },
  {
   "cell_type": "code",
   "execution_count": 24,
   "id": "ecbbec76-489e-4c1f-a52e-867b1712c837",
   "metadata": {},
   "outputs": [],
   "source": [
    "X = df.drop(['ReAdmis'], axis= 1) # Independent variables\n",
    "y = df['ReAdmis'] # Dependent variable\n",
    "\n",
    "# Split our data into training and test set for the model\n",
    "X_train, X_test, y_train, y_test = train_test_split(X, y, train_size = 0.8, test_size = 0.2, random_state = 15, stratify = y)\n",
    "\n",
    "frames_train = [X_train, y_train]\n",
    "df_train = pd.concat(frames_train, axis = 1)\n",
    "frames_test = [X_test, y_test]\n",
    "df_test = pd.concat(frames_test, axis = 1)\n",
    "\n",
    "df_train.to_csv(r'C:\\Users\\jtrie\\OneDrive\\WGU\\D209\\df_train_task2.csv', index=False, header=True)\n",
    "df_test.to_csv(r'C:\\Users\\jtrie\\OneDrive\\WGU\\D209\\df_test_task2.csv', index=False, header=True)"
   ]
  },
  {
   "cell_type": "code",
   "execution_count": 25,
   "id": "bb8ec27a-d6c4-4d46-a791-99cd329e84b4",
   "metadata": {},
   "outputs": [
    {
     "name": "stdout",
     "output_type": "stream",
     "text": [
      "Fitting 10 folds for each of 15 candidates, totalling 150 fits\n"
     ]
    }
   ],
   "source": [
    "# Create the Random Forest object to use with GridSearchCV to tune our hyperparameters (RandomForestClassifier, 2024)\n",
    "rfc = RandomForestRegressor()\n",
    "param_grid = { 'n_estimators': np.arange(45, 50),\n",
    "             'max_features': [2,3,4],\n",
    "             'max_depth': [None]}\n",
    "\n",
    "grid = GridSearchCV( rfc, param_grid, cv = 10, scoring = 'r2', return_train_score = False, verbose = 1, error_score='raise')\n",
    "\n",
    "grid_search = grid.fit(X_train, y_train)"
   ]
  },
  {
   "cell_type": "code",
   "execution_count": 26,
   "id": "08ee8699-7b92-4ec1-a465-ad7633051702",
   "metadata": {},
   "outputs": [
    {
     "name": "stdout",
     "output_type": "stream",
     "text": [
      "Best params:  {'max_depth': None, 'max_features': 2, 'n_estimators': 47}\n",
      "Training Score (MSE):  0.9382002984749256\n",
      "Training Score (RMSE):  0.9686074016209693\n",
      "Training - R-squared score for the model:  0.990790869865453\n"
     ]
    }
   ],
   "source": [
    "# Check for best parameters used\n",
    "print(\"Best params: \", grid_search.best_params_)\n",
    "\n",
    "#Check best score for the top performing model\n",
    "print(\"Training Score (MSE): \", grid_search.best_score_)\n",
    "print(\"Training Score (RMSE): \", (grid_search.best_score_)**(1/2))\n",
    "y_train_pred = grid_search.predict(X_train)\n",
    "print(\"Training - R-squared score for the model: \", r2_score(y_train, y_train_pred))"
   ]
  },
  {
   "cell_type": "code",
   "execution_count": 27,
   "id": "efc52a25-310a-48d4-aea7-d4aa306bdbc7",
   "metadata": {},
   "outputs": [
    {
     "name": "stdout",
     "output_type": "stream",
     "text": [
      "Testing Score (MSE):  0.016733526698316955\n",
      "Testing Score (RMSE):  0.12935813348343023\n",
      "Testing - R-squared score for the model:  0.9280046803643797\n"
     ]
    }
   ],
   "source": [
    "# Use the values from GridSearchCV in our Random Forest object (RandomForestClassifier, 2024)\n",
    "rfc = RandomForestRegressor(n_estimators = 46, max_features = 3, max_depth = None)\n",
    "\n",
    "model = rfc.fit(X_train, y_train)\n",
    "\n",
    "# Check prediction accuracy\n",
    "y_pred = model.predict(X_test)\n",
    "\n",
    "print(\"Testing Score (MSE): \", mean_squared_error(y_test, y_pred))\n",
    "print(\"Testing Score (RMSE): \", mean_squared_error(y_test, y_pred, squared=False))\n",
    "print(\"Testing - R-squared score for the model: \", r2_score(y_test, y_pred))"
   ]
  }
 ],
 "metadata": {
  "kernelspec": {
   "display_name": "Python 3 (ipykernel)",
   "language": "python",
   "name": "python3"
  },
  "language_info": {
   "codemirror_mode": {
    "name": "ipython",
    "version": 3
   },
   "file_extension": ".py",
   "mimetype": "text/x-python",
   "name": "python",
   "nbconvert_exporter": "python",
   "pygments_lexer": "ipython3",
   "version": "3.11.7"
  }
 },
 "nbformat": 4,
 "nbformat_minor": 5
}
