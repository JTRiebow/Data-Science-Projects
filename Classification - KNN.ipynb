{
 "cells": [
  {
   "cell_type": "code",
   "execution_count": 472,
   "id": "aad0eaf5-e09c-4d2c-bce5-3d383557df27",
   "metadata": {},
   "outputs": [
    {
     "data": {
      "text/html": [
       "<div>\n",
       "<style scoped>\n",
       "    .dataframe tbody tr th:only-of-type {\n",
       "        vertical-align: middle;\n",
       "    }\n",
       "\n",
       "    .dataframe tbody tr th {\n",
       "        vertical-align: top;\n",
       "    }\n",
       "\n",
       "    .dataframe thead th {\n",
       "        text-align: right;\n",
       "    }\n",
       "</style>\n",
       "<table border=\"1\" class=\"dataframe\">\n",
       "  <thead>\n",
       "    <tr style=\"text-align: right;\">\n",
       "      <th></th>\n",
       "      <th>CaseOrder</th>\n",
       "      <th>Customer_id</th>\n",
       "      <th>Interaction</th>\n",
       "      <th>UID</th>\n",
       "      <th>City</th>\n",
       "      <th>State</th>\n",
       "      <th>County</th>\n",
       "      <th>Zip</th>\n",
       "      <th>Lat</th>\n",
       "      <th>Lng</th>\n",
       "      <th>...</th>\n",
       "      <th>TotalCharge</th>\n",
       "      <th>Additional_charges</th>\n",
       "      <th>Item1</th>\n",
       "      <th>Item2</th>\n",
       "      <th>Item3</th>\n",
       "      <th>Item4</th>\n",
       "      <th>Item5</th>\n",
       "      <th>Item6</th>\n",
       "      <th>Item7</th>\n",
       "      <th>Item8</th>\n",
       "    </tr>\n",
       "  </thead>\n",
       "  <tbody>\n",
       "    <tr>\n",
       "      <th>0</th>\n",
       "      <td>1</td>\n",
       "      <td>C412403</td>\n",
       "      <td>8cd49b13-f45a-4b47-a2bd-173ffa932c2f</td>\n",
       "      <td>3a83ddb66e2ae73798bdf1d705dc0932</td>\n",
       "      <td>Eva</td>\n",
       "      <td>AL</td>\n",
       "      <td>Morgan</td>\n",
       "      <td>35621</td>\n",
       "      <td>34.34960</td>\n",
       "      <td>-86.72508</td>\n",
       "      <td>...</td>\n",
       "      <td>3726.702860</td>\n",
       "      <td>17939.403420</td>\n",
       "      <td>3</td>\n",
       "      <td>3</td>\n",
       "      <td>2</td>\n",
       "      <td>2</td>\n",
       "      <td>4</td>\n",
       "      <td>3</td>\n",
       "      <td>3</td>\n",
       "      <td>4</td>\n",
       "    </tr>\n",
       "    <tr>\n",
       "      <th>1</th>\n",
       "      <td>2</td>\n",
       "      <td>Z919181</td>\n",
       "      <td>d2450b70-0337-4406-bdbb-bc1037f1734c</td>\n",
       "      <td>176354c5eef714957d486009feabf195</td>\n",
       "      <td>Marianna</td>\n",
       "      <td>FL</td>\n",
       "      <td>Jackson</td>\n",
       "      <td>32446</td>\n",
       "      <td>30.84513</td>\n",
       "      <td>-85.22907</td>\n",
       "      <td>...</td>\n",
       "      <td>4193.190458</td>\n",
       "      <td>17612.998120</td>\n",
       "      <td>3</td>\n",
       "      <td>4</td>\n",
       "      <td>3</td>\n",
       "      <td>4</td>\n",
       "      <td>4</td>\n",
       "      <td>4</td>\n",
       "      <td>3</td>\n",
       "      <td>3</td>\n",
       "    </tr>\n",
       "    <tr>\n",
       "      <th>2</th>\n",
       "      <td>3</td>\n",
       "      <td>F995323</td>\n",
       "      <td>a2057123-abf5-4a2c-abad-8ffe33512562</td>\n",
       "      <td>e19a0fa00aeda885b8a436757e889bc9</td>\n",
       "      <td>Sioux Falls</td>\n",
       "      <td>SD</td>\n",
       "      <td>Minnehaha</td>\n",
       "      <td>57110</td>\n",
       "      <td>43.54321</td>\n",
       "      <td>-96.63772</td>\n",
       "      <td>...</td>\n",
       "      <td>2434.234222</td>\n",
       "      <td>17505.192460</td>\n",
       "      <td>2</td>\n",
       "      <td>4</td>\n",
       "      <td>4</td>\n",
       "      <td>4</td>\n",
       "      <td>3</td>\n",
       "      <td>4</td>\n",
       "      <td>3</td>\n",
       "      <td>3</td>\n",
       "    </tr>\n",
       "    <tr>\n",
       "      <th>3</th>\n",
       "      <td>4</td>\n",
       "      <td>A879973</td>\n",
       "      <td>1dec528d-eb34-4079-adce-0d7a40e82205</td>\n",
       "      <td>cd17d7b6d152cb6f23957346d11c3f07</td>\n",
       "      <td>New Richland</td>\n",
       "      <td>MN</td>\n",
       "      <td>Waseca</td>\n",
       "      <td>56072</td>\n",
       "      <td>43.89744</td>\n",
       "      <td>-93.51479</td>\n",
       "      <td>...</td>\n",
       "      <td>2127.830423</td>\n",
       "      <td>12993.437350</td>\n",
       "      <td>3</td>\n",
       "      <td>5</td>\n",
       "      <td>5</td>\n",
       "      <td>3</td>\n",
       "      <td>4</td>\n",
       "      <td>5</td>\n",
       "      <td>5</td>\n",
       "      <td>5</td>\n",
       "    </tr>\n",
       "    <tr>\n",
       "      <th>4</th>\n",
       "      <td>5</td>\n",
       "      <td>C544523</td>\n",
       "      <td>5885f56b-d6da-43a3-8760-83583af94266</td>\n",
       "      <td>d2f0425877b10ed6bb381f3e2579424a</td>\n",
       "      <td>West Point</td>\n",
       "      <td>VA</td>\n",
       "      <td>King William</td>\n",
       "      <td>23181</td>\n",
       "      <td>37.59894</td>\n",
       "      <td>-76.88958</td>\n",
       "      <td>...</td>\n",
       "      <td>2113.073274</td>\n",
       "      <td>3716.525786</td>\n",
       "      <td>2</td>\n",
       "      <td>1</td>\n",
       "      <td>3</td>\n",
       "      <td>3</td>\n",
       "      <td>5</td>\n",
       "      <td>3</td>\n",
       "      <td>4</td>\n",
       "      <td>3</td>\n",
       "    </tr>\n",
       "  </tbody>\n",
       "</table>\n",
       "<p>5 rows × 50 columns</p>\n",
       "</div>"
      ],
      "text/plain": [
       "   CaseOrder Customer_id                           Interaction  \\\n",
       "0          1     C412403  8cd49b13-f45a-4b47-a2bd-173ffa932c2f   \n",
       "1          2     Z919181  d2450b70-0337-4406-bdbb-bc1037f1734c   \n",
       "2          3     F995323  a2057123-abf5-4a2c-abad-8ffe33512562   \n",
       "3          4     A879973  1dec528d-eb34-4079-adce-0d7a40e82205   \n",
       "4          5     C544523  5885f56b-d6da-43a3-8760-83583af94266   \n",
       "\n",
       "                                UID          City State        County    Zip  \\\n",
       "0  3a83ddb66e2ae73798bdf1d705dc0932           Eva    AL        Morgan  35621   \n",
       "1  176354c5eef714957d486009feabf195      Marianna    FL       Jackson  32446   \n",
       "2  e19a0fa00aeda885b8a436757e889bc9   Sioux Falls    SD     Minnehaha  57110   \n",
       "3  cd17d7b6d152cb6f23957346d11c3f07  New Richland    MN        Waseca  56072   \n",
       "4  d2f0425877b10ed6bb381f3e2579424a    West Point    VA  King William  23181   \n",
       "\n",
       "        Lat       Lng  ...  TotalCharge Additional_charges Item1 Item2  Item3  \\\n",
       "0  34.34960 -86.72508  ...  3726.702860       17939.403420     3     3      2   \n",
       "1  30.84513 -85.22907  ...  4193.190458       17612.998120     3     4      3   \n",
       "2  43.54321 -96.63772  ...  2434.234222       17505.192460     2     4      4   \n",
       "3  43.89744 -93.51479  ...  2127.830423       12993.437350     3     5      5   \n",
       "4  37.59894 -76.88958  ...  2113.073274        3716.525786     2     1      3   \n",
       "\n",
       "   Item4  Item5 Item6 Item7 Item8  \n",
       "0      2      4     3     3     4  \n",
       "1      4      4     4     3     3  \n",
       "2      4      3     4     3     3  \n",
       "3      3      4     5     5     5  \n",
       "4      3      5     3     4     3  \n",
       "\n",
       "[5 rows x 50 columns]"
      ]
     },
     "execution_count": 472,
     "metadata": {},
     "output_type": "execute_result"
    }
   ],
   "source": [
    "# Import all the necessary modules and packages for our code\n",
    "import pandas as pd\n",
    "import numpy as np\n",
    "import matplotlib.pyplot as plt\n",
    "import scipy.stats as stats\n",
    "import seaborn as sns\n",
    "import warnings\n",
    "from sklearn.feature_selection import SelectKBest, f_classif\n",
    "from sklearn.metrics import accuracy_score, mean_squared_error, confusion_matrix, roc_auc_score\n",
    "from sklearn.model_selection import train_test_split, GridSearchCV\n",
    "from sklearn.neighbors import KNeighborsClassifier \n",
    "from sklearn.preprocessing import StandardScaler\n",
    "from statsmodels.stats.outliers_influence import variance_inflation_factor\n",
    "warnings.simplefilter(action='ignore', category=FutureWarning)\n",
    "\n",
    "# Read in the CSV\n",
    "csv = pd.read_csv(r'C:\\Users\\jtrie\\OneDrive\\WGU\\D209\\medical_clean.csv')\n",
    "\n",
    "# Use .head() function to make sure dataframe has been created correctly\n",
    "csv.head()"
   ]
  },
  {
   "cell_type": "code",
   "execution_count": 473,
   "id": "f3a28fbd-6c6d-436a-ab9f-db2515fecb84",
   "metadata": {},
   "outputs": [],
   "source": [
    "# Create a DF with only the columns needed to answer the research question\n",
    "df = csv.iloc[:, 14:42]"
   ]
  },
  {
   "cell_type": "code",
   "execution_count": 474,
   "id": "19307435-bdfb-4db3-9b93-17dfe9ea89b4",
   "metadata": {},
   "outputs": [
    {
     "name": "stdout",
     "output_type": "stream",
     "text": [
      "<class 'pandas.core.frame.DataFrame'>\n",
      "RangeIndex: 10000 entries, 0 to 9999\n",
      "Data columns (total 28 columns):\n",
      " #   Column              Non-Null Count  Dtype  \n",
      "---  ------              --------------  -----  \n",
      " 0   Children            10000 non-null  int64  \n",
      " 1   Age                 10000 non-null  int64  \n",
      " 2   Income              10000 non-null  float64\n",
      " 3   Marital             10000 non-null  object \n",
      " 4   Gender              10000 non-null  object \n",
      " 5   ReAdmis             10000 non-null  object \n",
      " 6   VitD_levels         10000 non-null  float64\n",
      " 7   Doc_visits          10000 non-null  int64  \n",
      " 8   Full_meals_eaten    10000 non-null  int64  \n",
      " 9   vitD_supp           10000 non-null  int64  \n",
      " 10  Soft_drink          10000 non-null  object \n",
      " 11  Initial_admin       10000 non-null  object \n",
      " 12  HighBlood           10000 non-null  object \n",
      " 13  Stroke              10000 non-null  object \n",
      " 14  Complication_risk   10000 non-null  object \n",
      " 15  Overweight          10000 non-null  object \n",
      " 16  Arthritis           10000 non-null  object \n",
      " 17  Diabetes            10000 non-null  object \n",
      " 18  Hyperlipidemia      10000 non-null  object \n",
      " 19  BackPain            10000 non-null  object \n",
      " 20  Anxiety             10000 non-null  object \n",
      " 21  Allergic_rhinitis   10000 non-null  object \n",
      " 22  Reflux_esophagitis  10000 non-null  object \n",
      " 23  Asthma              10000 non-null  object \n",
      " 24  Services            10000 non-null  object \n",
      " 25  Initial_days        10000 non-null  float64\n",
      " 26  TotalCharge         10000 non-null  float64\n",
      " 27  Additional_charges  10000 non-null  float64\n",
      "dtypes: float64(5), int64(5), object(18)\n",
      "memory usage: 2.1+ MB\n"
     ]
    }
   ],
   "source": [
    "# Get a sense of the dataframe\n",
    "df.info()"
   ]
  },
  {
   "cell_type": "code",
   "execution_count": 475,
   "id": "ab39e629-a0c1-4bbc-99d6-a6c2fad07139",
   "metadata": {},
   "outputs": [
    {
     "data": {
      "text/plain": [
       "Children              0\n",
       "Age                   0\n",
       "Income                0\n",
       "Marital               0\n",
       "Gender                0\n",
       "ReAdmis               0\n",
       "VitD_levels           0\n",
       "Doc_visits            0\n",
       "Full_meals_eaten      0\n",
       "vitD_supp             0\n",
       "Soft_drink            0\n",
       "Initial_admin         0\n",
       "HighBlood             0\n",
       "Stroke                0\n",
       "Complication_risk     0\n",
       "Overweight            0\n",
       "Arthritis             0\n",
       "Diabetes              0\n",
       "Hyperlipidemia        0\n",
       "BackPain              0\n",
       "Anxiety               0\n",
       "Allergic_rhinitis     0\n",
       "Reflux_esophagitis    0\n",
       "Asthma                0\n",
       "Services              0\n",
       "Initial_days          0\n",
       "TotalCharge           0\n",
       "Additional_charges    0\n",
       "dtype: int64"
      ]
     },
     "execution_count": 475,
     "metadata": {},
     "output_type": "execute_result"
    }
   ],
   "source": [
    "# Check for missing values\n",
    "df.isnull().sum()"
   ]
  },
  {
   "cell_type": "code",
   "execution_count": 476,
   "id": "f1e0b499-1fba-4628-98a4-de2988c75cb9",
   "metadata": {},
   "outputs": [
    {
     "name": "stdout",
     "output_type": "stream",
     "text": [
      "False    10000\n",
      "Name: count, dtype: int64\n"
     ]
    }
   ],
   "source": [
    "# Check for duplicated values within the dataset\n",
    "print(df.duplicated().value_counts())"
   ]
  },
  {
   "cell_type": "code",
   "execution_count": 477,
   "id": "4c40640f-1a48-4832-94ad-8f99fafa134d",
   "metadata": {},
   "outputs": [],
   "source": [
    "# Mapping categorical data to nominal\n",
    "df['Marital'] = df['Marital'].map({'Divorced':0, 'Married':1, 'Never Married':2, 'Separated':3, 'Widowed':4}) \n",
    "df['Gender'] = df['Gender'].map({'Male':0, 'Female':1, 'Nonbinary':3}) \n",
    "df['ReAdmis'] = df['ReAdmis'].map({'No':0, 'Yes':1}) \n",
    "df['Soft_drink'] = df['Soft_drink'].map({'No':0, 'Yes':1}) \n",
    "df['Initial_admin'] = df['Initial_admin'].map({'Elective Admission':0, 'Emergency Admission':1, 'Observation Admission':2}) \n",
    "df['HighBlood'] = df['HighBlood'].map({'No':0, 'Yes':1}) \n",
    "df['Stroke'] = df['Stroke'].map({'No':0, 'Yes':1}) \n",
    "df['Complication_risk'] = df['Complication_risk'].map({'Low':0, 'Medium':1, 'High':2}) \n",
    "df['Overweight'] = df['Overweight'].map({'No':0, 'Yes':1}) \n",
    "df['Arthritis'] = df['Arthritis'].map({'No':0, 'Yes':1}) \n",
    "df['Diabetes'] = df['Diabetes'].map({'No':0, 'Yes':1}) \n",
    "df['Hyperlipidemia'] = df['Hyperlipidemia'].map({'No':0, 'Yes':1}) \n",
    "df['BackPain'] = df['BackPain'].map({'No':0, 'Yes':1}) \n",
    "df['Anxiety'] = df['Anxiety'].map({'No':0, 'Yes':1}) \n",
    "df['Allergic_rhinitis'] = df['Allergic_rhinitis'].map({'No':0, 'Yes':1})\n",
    "df['Reflux_esophagitis'] = df['Reflux_esophagitis'].map({'No':0, 'Yes':1})\n",
    "df['Asthma'] = df['Asthma'].map({'No':0, 'Yes':1})\n",
    "df['Services'] = df['Services'].map({'Blood Work':0, 'CT Scan':1, 'Intravenous':2, 'MRI':3})"
   ]
  },
  {
   "cell_type": "code",
   "execution_count": 478,
   "id": "1dd03ae2-c15b-495a-a80d-982752d76cf9",
   "metadata": {},
   "outputs": [
    {
     "name": "stdout",
     "output_type": "stream",
     "text": [
      "ReAdmis\n",
      "0    6331\n",
      "1    3669\n",
      "Name: count, dtype: int64\n",
      "Index(['Initial_days', 'TotalCharge'], dtype='object')\n"
     ]
    }
   ],
   "source": [
    "X = df.drop(['ReAdmis'], axis=1)  # Features\n",
    "y = df['ReAdmis']  # Target variable\n",
    "\n",
    "counts = df['ReAdmis'].value_counts()\n",
    "print(counts)\n",
    "      \n",
    "# Select the top 2 features \n",
    "selector = SelectKBest(score_func=f_classif, k=2)\n",
    "X_new = selector.fit_transform(X, y)\n",
    "\n",
    "# Get the names of the selected features\n",
    "selected_features = X.columns[selector.get_support()]\n",
    "print(selected_features)"
   ]
  },
  {
   "cell_type": "code",
   "execution_count": 479,
   "id": "be220a48-6fe6-49d8-a804-a4a42a74ce78",
   "metadata": {},
   "outputs": [],
   "source": [
    "df = df[['Initial_days', 'TotalCharge', 'ReAdmis']]"
   ]
  },
  {
   "cell_type": "code",
   "execution_count": 480,
   "id": "0cb7a8d0-ff8f-46e2-8ae3-e3e805cd0355",
   "metadata": {},
   "outputs": [
    {
     "data": {
      "text/plain": [
       "<Axes: ylabel='Initial_days'>"
      ]
     },
     "execution_count": 480,
     "metadata": {},
     "output_type": "execute_result"
    },
    {
     "data": {
      "image/png": "[encoded data removed]",
      "text/plain": [
       "<Figure size 640x480 with 1 Axes>"
      ]
     },
     "metadata": {},
     "output_type": "display_data"
    }
   ],
   "source": [
    "# Check for outliers\n",
    "sns.boxplot(df['Initial_days'])"
   ]
  },
  {
   "cell_type": "code",
   "execution_count": 481,
   "id": "5b031ec5-3dff-4131-a600-0a1a98e2221d",
   "metadata": {},
   "outputs": [
    {
     "data": {
      "text/plain": [
       "<Axes: ylabel='TotalCharge'>"
      ]
     },
     "execution_count": 481,
     "metadata": {},
     "output_type": "execute_result"
    },
    {
     "data": {
      "image/png": "[encoded data removed]",
      "text/plain": [
       "<Figure size 640x480 with 1 Axes>"
      ]
     },
     "metadata": {},
     "output_type": "display_data"
    }
   ],
   "source": [
    "sns.boxplot(df['TotalCharge'])"
   ]
  },
  {
   "cell_type": "code",
   "execution_count": 482,
   "id": "c5fff9a8-6c42-462c-bde2-bc1519a3f98c",
   "metadata": {},
   "outputs": [
    {
     "name": "stdout",
     "output_type": "stream",
     "text": [
      "<class 'pandas.core.frame.DataFrame'>\n",
      "RangeIndex: 10000 entries, 0 to 9999\n",
      "Data columns (total 3 columns):\n",
      " #   Column        Non-Null Count  Dtype  \n",
      "---  ------        --------------  -----  \n",
      " 0   Initial_days  10000 non-null  float64\n",
      " 1   TotalCharge   10000 non-null  float64\n",
      " 2   ReAdmis       10000 non-null  int64  \n",
      "dtypes: float64(2), int64(1)\n",
      "memory usage: 234.5 KB\n"
     ]
    }
   ],
   "source": [
    "df.info()"
   ]
  },
  {
   "cell_type": "code",
   "execution_count": 483,
   "id": "013930df-8394-4330-89d0-87322c27bf8e",
   "metadata": {},
   "outputs": [],
   "source": [
    "df.to_csv(r\"C:\\Users\\jtrie\\OneDrive\\WGU\\D209\\Prepared_Data_JTR.csv\", index=False, header=True)"
   ]
  },
  {
   "cell_type": "code",
   "execution_count": 484,
   "id": "651baeed-e237-459a-8383-b1910e3b9dbd",
   "metadata": {},
   "outputs": [],
   "source": [
    "# Standardize the continuous data\n",
    "scaler = StandardScaler()\n",
    "df[['TotalCharge', 'Initial_days']] = scaler.fit_transform(df[['TotalCharge', 'Initial_days']])"
   ]
  },
  {
   "cell_type": "code",
   "execution_count": 485,
   "id": "036fbda4-1da6-4547-af80-7e3d46e21bcc",
   "metadata": {},
   "outputs": [],
   "source": [
    "X = df.drop(['ReAdmis'], axis= 1) # Independent variables\n",
    "y = df['ReAdmis'] # Dependent variable\n",
    "\n",
    "# Split our data into training and test set for the model\n",
    "X_train, X_test, y_train, y_test = train_test_split(X, y, train_size = 0.7, test_size = 0.3, random_state = 15, stratify = y)\n",
    "\n",
    "frames_train = [X_train, y_train]\n",
    "df_train = pd.concat(frames_train, axis = 1)\n",
    "frames_test = [X_test, y_test]\n",
    "df_test = pd.concat(frames_test, axis = 1)\n",
    "\n",
    "df_train.to_csv(r'C:\\Users\\jtrie\\OneDrive\\WGU\\D209\\df_train.csv', index=False, header=True)\n",
    "df_test.to_csv(r'C:\\Users\\jtrie\\OneDrive\\WGU\\D209\\df_test.csv', index=False, header=True)"
   ]
  },
  {
   "cell_type": "code",
   "execution_count": 486,
   "id": "6f25c62f-acf1-40ce-b411-667c89f4e723",
   "metadata": {},
   "outputs": [
    {
     "name": "stdout",
     "output_type": "stream",
     "text": [
      "Fitting 10 folds for each of 15 candidates, totalling 150 fits\n",
      "The best K value is: \n",
      "{'n_neighbors': 108}\n"
     ]
    }
   ],
   "source": [
    "# Use GridSearchCV to find the best parameters for our model (Okamura, 2020)\n",
    "\n",
    "knn = KNeighborsClassifier()\n",
    "param_grid = {'n_neighbors': np.arange(95, 110)}\n",
    "                             \n",
    "grid = GridSearchCV(knn, param_grid, cv = 10, scoring = 'accuracy', return_train_score = False, verbose = 1, error_score='raise')\n",
    "\n",
    "grid_search = grid.fit(X_train, y_train)\n",
    "\n",
    "print('The best K value is: ')\n",
    "print(grid_search.best_params_)"
   ]
  },
  {
   "cell_type": "code",
   "execution_count": 487,
   "id": "73b03c7e-7eda-4319-a1e2-8f4efffb0c41",
   "metadata": {},
   "outputs": [
    {
     "name": "stdout",
     "output_type": "stream",
     "text": [
      "The confusion matrix of the model is: \n",
      "[[1867   32]\n",
      " [  28 1073]]\n",
      "The accuracy of the model is:  0.98\n",
      "The accuracy of the training model is:  1.0\n"
     ]
    }
   ],
   "source": [
    "# Use K-NN to fit our our data and print our confusion matrix and accuracy scores (Elleh, 2024)\n",
    "knn = KNeighborsClassifier(n_neighbors = 108, metric = 'euclidean', weights = 'distance')\n",
    "knn.fit(X_train, y_train)\n",
    "\n",
    "y_pred = knn.predict(X_test)\n",
    "print('The confusion matrix of the model is: ')\n",
    "print(confusion_matrix(y_test, y_pred))\n",
    "\n",
    "print('The accuracy of the model is: ', knn.score(X_test, y_test))\n",
    "print('The accuracy of the training model is: ', knn.score(X_train, y_train))"
   ]
  },
  {
   "cell_type": "code",
   "execution_count": 488,
   "id": "7de19f80-3a39-4b3f-bf49-2bd8311bf743",
   "metadata": {},
   "outputs": [
    {
     "name": "stdout",
     "output_type": "stream",
     "text": [
      "The AUC for the model is:  0.9981181835269675\n"
     ]
    }
   ],
   "source": [
    "# Print the AUC score for our model (Elleh, 2024)\n",
    "y_predProb = knn.predict_proba(X_test)[:,1]\n",
    "print('The AUC for the model is: ', roc_auc_score(y_test, y_predProb))"
   ]
  },
  {
   "cell_type": "code",
   "execution_count": 489,
   "id": "b6a75b93-d89f-4bbf-a0fa-5fe95b2b7d8c",
   "metadata": {},
   "outputs": [
    {
     "data": {
      "image/png": "[encoded data removed]",
      "text/plain": [
       "<Figure size 640x480 with 1 Axes>"
      ]
     },
     "metadata": {},
     "output_type": "display_data"
    }
   ],
   "source": [
    "# Model complexity curve  (Datacamp, n.d)\n",
    "neighbors = np.arange(1, 25)\n",
    "train_accuracy = np.empty(len(neighbors))\n",
    "test_accuracy = np.empty(len(neighbors))\n",
    "\n",
    "# Loop over differenct values of k\n",
    "for i, k in enumerate(neighbors):\n",
    "    # Setup a k-NN Classifier with k neighbors: knn\n",
    "    knn = KNeighborsClassifier(n_neighbors = k)\n",
    "\n",
    "    #Fit the classifier to the training data\n",
    "    knn.fit(X_train, y_train)\n",
    "\n",
    "    #Compute accuracy on the training set\n",
    "    train_accuracy[i] = knn.score(X_train, y_train)\n",
    "\n",
    "    #Compute accuracy on the testing set\n",
    "    test_accuracy[i] = knn.score(X_test, y_test)\n",
    "\n",
    "    #print(\"K: \", i, \" Train Score:\", train_accuracy[i], \"Test Score:\", test_accuracy[i]\n",
    "\n",
    "plt.title('k-NN: Varying Number of Neighbors')\n",
    "plt.plot(neighbors, test_accuracy, label = 'Testing Accuracy')\n",
    "plt.plot(neighbors, train_accuracy, label = 'Training Accuracy')\n",
    "plt.legend()\n",
    "plt.xlabel('Number of Neighbors')\n",
    "plt.ylabel('Accuracy')\n",
    "plt.show()"
   ]
  },
  {
   "cell_type": "code",
   "execution_count": null,
   "id": "cba45dcc-c420-4938-b0f5-a818538bdb2d",
   "metadata": {},
   "outputs": [],
   "source": []
  }
 ],
 "metadata": {
  "kernelspec": {
   "display_name": "Python 3 (ipykernel)",
   "language": "python",
   "name": "python3"
  },
  "language_info": {
   "codemirror_mode": {
    "name": "ipython",
    "version": 3
   },
   "file_extension": ".py",
   "mimetype": "text/x-python",
   "name": "python",
   "nbconvert_exporter": "python",
   "pygments_lexer": "ipython3",
   "version": "3.11.7"
  }
 },
 "nbformat": 4,
 "nbformat_minor": 5
}
